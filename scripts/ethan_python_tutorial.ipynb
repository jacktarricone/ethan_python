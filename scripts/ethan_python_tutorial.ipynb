{
 "cells": [
  {
   "cell_type": "code",
   "execution_count": 2,
   "id": "dd53af5a-b19e-48c9-a834-cfecae71fe8c",
   "metadata": {},
   "outputs": [],
   "source": [
    "# import relavent packages, and assign them commmonly used short hand names\n",
    "import numpy as np\n",
    "import pandas as pd\n",
    "import matplotlib.pyplot as plt"
   ]
  },
  {
   "cell_type": "code",
   "execution_count": 4,
   "id": "01ac84c7-95b3-439a-8e35-15b2a64e3f95",
   "metadata": {},
   "outputs": [],
   "source": [
    "# create object for file path, this is a text string\n",
    "csv_path = \"/Users/jacktarricone/ethan_python/data/btv_weather_data.csv\""
   ]
  },
  {
   "cell_type": "code",
   "execution_count": 7,
   "id": "c4c70499-41a7-47e4-8094-f1654d2b1ff4",
   "metadata": {},
   "outputs": [
    {
     "data": {
      "text/plain": [
       "str"
      ]
     },
     "execution_count": 7,
     "metadata": {},
     "output_type": "execute_result"
    }
   ],
   "source": [
    "# check data type\n",
    "type(csv_path)"
   ]
  },
  {
   "cell_type": "code",
   "execution_count": 8,
   "id": "ad0133ae-4693-4b91-b33b-faa7717b331a",
   "metadata": {},
   "outputs": [
    {
     "name": "stdout",
     "output_type": "stream",
     "text": [
      "/Users/jacktarricone/ethan_python/data/btv_weather_data.csv\n"
     ]
    }
   ],
   "source": [
    "# print the contents of the object\n",
    "print(csv_path)"
   ]
  },
  {
   "cell_type": "code",
   "execution_count": 9,
   "id": "aa8d2398-3994-43d7-8e43-bf99e12ab02e",
   "metadata": {},
   "outputs": [
    {
     "name": "stderr",
     "output_type": "stream",
     "text": [
      "/var/folders/7d/61kbxptj5yl29nbrh216cv_40000gn/T/ipykernel_53123/4268401437.py:2: DtypeWarning: Columns (7,9,11,13,15,21,27,33,35,37,39,41,43,47,49,51,53,55,59,75,77,79,81,85,89,91,93,95,97) have mixed types. Specify dtype option on import or set low_memory=False.\n",
      "  df = pd.read_csv(csv_path)\n"
     ]
    }
   ],
   "source": [
    "# read in the csv using the path object\n",
    "df = pd.read_csv(csv_path)"
   ]
  },
  {
   "cell_type": "code",
   "execution_count": null,
   "id": "4fd7cc5c-9cfe-4883-872a-dc1d4ead46c2",
   "metadata": {},
   "outputs": [],
   "source": []
  }
 ],
 "metadata": {
  "kernelspec": {
   "display_name": "uavsar_pytools",
   "language": "python",
   "name": "uavsar_pytools"
  },
  "language_info": {
   "codemirror_mode": {
    "name": "ipython",
    "version": 3
   },
   "file_extension": ".py",
   "mimetype": "text/x-python",
   "name": "python",
   "nbconvert_exporter": "python",
   "pygments_lexer": "ipython3",
   "version": "3.10.5"
  }
 },
 "nbformat": 4,
 "nbformat_minor": 5
}
