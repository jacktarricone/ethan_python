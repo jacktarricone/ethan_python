{
 "cells": [
  {
   "cell_type": "markdown",
   "id": "d5ec22d1-e4b0-4714-b9e8-1f48b9d0b194",
   "metadata": {},
   "source": [
    "# Ethan Intro Python Tutorial\n",
    "A basic script showing how to read in a csv, format data, and plot using ```pandas```. This simple code provides the building blocks for a further analysis."
   ]
  },
  {
   "cell_type": "markdown",
   "id": "4d992c17-75cf-4497-a834-2f68ae66bf95",
   "metadata": {},
   "source": [
    "## Objectives\n",
    "\n",
    "For years Ethan has provided an observational analysis that, \"August is the nicest time of year to be in Vermont\". This statement has never been backed up with data, until now. The data provided in this script is a CSV of NOAA daily weather data from the [Burlington International Airport](https://www.ncdc.noaa.gov/cdo-web/datasets/GHCND/stations/GHCND:USW00014742/detail). Data documentation can be found [here](https://www.ncei.noaa.gov/pub/data/cdo/documentation/GHCND_documentation.pdf).\n",
    "\n",
    "Show that August is the \"nicest\" month of year through a data driven analysis. This can include analysis all of the different variables provided (temp, wind, rain, etc.)."
   ]
  },
  {
   "cell_type": "code",
   "execution_count": null,
   "id": "378da265-4cfd-4923-93aa-0c7162230c43",
   "metadata": {},
   "outputs": [],
   "source": [
    "# import relavent packages, and assign them commmonly used short hand names\n",
    "import numpy as np\n",
    "import pandas as pd\n",
    "#import matplotlib.pyplot as plt"
   ]
  },
  {
   "cell_type": "code",
   "execution_count": null,
   "id": "01ac84c7-95b3-439a-8e35-15b2a64e3f95",
   "metadata": {},
   "outputs": [],
   "source": [
    "# create object for file path, this is a text string\n",
    "csv_path = \"/Users/jacktarricone/ethan_python/data/btv_weather_data.csv\""
   ]
  },
  {
   "cell_type": "code",
   "execution_count": null,
   "id": "c4c70499-41a7-47e4-8094-f1654d2b1ff4",
   "metadata": {},
   "outputs": [],
   "source": [
    "# check data type\n",
    "type(csv_path)"
   ]
  },
  {
   "cell_type": "code",
   "execution_count": null,
   "id": "ad0133ae-4693-4b91-b33b-faa7717b331a",
   "metadata": {},
   "outputs": [],
   "source": [
    "# print the contents of the object\n",
    "print(csv_path)"
   ]
  },
  {
   "cell_type": "code",
   "execution_count": null,
   "id": "aa8d2398-3994-43d7-8e43-bf99e12ab02e",
   "metadata": {},
   "outputs": [],
   "source": [
    "# read in the csv using the path object\n",
    "df = pd.read_csv(csv_path)\n",
    "type(df)"
   ]
  },
  {
   "cell_type": "code",
   "execution_count": null,
   "id": "4fd7cc5c-9cfe-4883-872a-dc1d4ead46c2",
   "metadata": {},
   "outputs": [],
   "source": [
    "# print data frame\n",
    "df"
   ]
  },
  {
   "cell_type": "code",
   "execution_count": null,
   "id": "4e0616f8-446d-4ba5-bec7-83697d76d74d",
   "metadata": {},
   "outputs": [],
   "source": [
    "# convert to date\n",
    "df[\"DATE\"] = pd.to_datetime(df[\"DATE\"])"
   ]
  },
  {
   "cell_type": "code",
   "execution_count": null,
   "id": "3e9c5293-46ee-441b-9efd-f8dc646f121a",
   "metadata": {},
   "outputs": [],
   "source": [
    "# check that it's a date\n",
    "type(df[\"DATE\"])"
   ]
  },
  {
   "cell_type": "code",
   "execution_count": null,
   "id": "fa232d80-915e-4a7e-a346-47608548f402",
   "metadata": {},
   "outputs": [],
   "source": [
    "# plot daily max temperature for the whole dataset\n",
    "df.plot(x='DATE', y='TMAX')"
   ]
  },
  {
   "cell_type": "code",
   "execution_count": null,
   "id": "c2f77872-9b37-40b8-a73a-b8d8ef633d3d",
   "metadata": {},
   "outputs": [],
   "source": [
    "# let's look at 2022 so far\n",
    "# filter the date column for dates greater than jan 1, 2022, and less than aug 5th, last day of data\n",
    "# assign that to a new object called df_2022\n",
    "df_2022 = df[(df['DATE'] > '2022-01-01') & (df['DATE'] < '2022-08-05')]"
   ]
  },
  {
   "cell_type": "code",
   "execution_count": null,
   "id": "b09302a9-0c93-4ada-be76-5e1a265af598",
   "metadata": {},
   "outputs": [],
   "source": [
    "# check it out, worked\n",
    "df_2022"
   ]
  },
  {
   "cell_type": "code",
   "execution_count": null,
   "id": "c8c2fa7d-e97f-4ee3-913c-47ece265a3e5",
   "metadata": {},
   "outputs": [],
   "source": [
    "# now let's plot daily min and max for 2022, by just adding another arguement to the y section\n",
    "# we'll also add plot labels this time\n",
    "\n",
    "ax = df_2022.plot(x='DATE', y=['TMAX','TMIN'], title='BTV Temperature 2022')\n",
    "ax.set_xlabel(\"Date\")\n",
    "ax.set_ylabel(\"Temp (F)\")"
   ]
  },
  {
   "cell_type": "markdown",
   "id": "c661ba3a-c223-4f4e-ab0f-a26ee46e0f03",
   "metadata": {},
   "source": [
    "## add further analysis and plots here.."
   ]
  },
  {
   "cell_type": "code",
   "execution_count": null,
   "id": "ce08e22c-8272-465d-a920-1e8cf06f2801",
   "metadata": {},
   "outputs": [],
   "source": []
  }
 ],
 "metadata": {
  "kernelspec": {
   "display_name": "uavsar_pytools",
   "language": "python",
   "name": "uavsar_pytools"
  },
  "language_info": {
   "codemirror_mode": {
    "name": "ipython",
    "version": 3
   },
   "file_extension": ".py",
   "mimetype": "text/x-python",
   "name": "python",
   "nbconvert_exporter": "python",
   "pygments_lexer": "ipython3",
   "version": "3.10.5"
  }
 },
 "nbformat": 4,
 "nbformat_minor": 5
}
